{
 "cells": [
  {
   "cell_type": "markdown",
   "metadata": {},
   "source": [
    "#Everettian Impact demo for Traders\n",
    "\n",
    "###In the following notebook we will showcase a small demo of the use case for our market impact analysis from the eyes of a trader.\n",
    "\n",
    "###I want to unload 10,000 shares in the next Half Hour and want to know the answer to the question:\n",
    "\n",
    "###What will be my expected impact on the price when carrying out this action over that timeframe ?\n",
    "\n",
    "###Then as a trader I can intelligently choose precisely when and how I want to carry out my trade."
   ]
  },
  {
   "cell_type": "code",
   "execution_count": 1,
   "metadata": {
    "collapsed": false
   },
   "outputs": [],
   "source": [
    "from market_impact import get_data\n",
    "from market_impact import calculate_impact\n",
    "from market_impact import get_trade"
   ]
  },
  {
   "cell_type": "code",
   "execution_count": 2,
   "metadata": {
    "collapsed": false
   },
   "outputs": [
    {
     "data": {
      "text/plain": [
       "<matplotlib.axes._subplots.AxesSubplot at 0x7fc8da94ac90>"
      ]
     },
     "execution_count": 2,
     "metadata": {},
     "output_type": "execute_result"
    },
    {
     "data": {
      "image/png": "[encoded data removed]",
      "text/plain": [
       "<matplotlib.figure.Figure at 0x7fc8da94a4d0>"
      ]
     },
     "metadata": {},
     "output_type": "display_data"
    }
   ],
   "source": [
    "# Let's take a sample day in which we'd like to trade \n",
    "# Aggregated to our interval length of interest\n",
    "\n",
    "%matplotlib inline\n",
    "\n",
    "day_data = get_data('20180306', '30M')\n",
    "day_data['PRICE'].plot()"
   ]
  },
  {
   "cell_type": "code",
   "execution_count": 3,
   "metadata": {
    "collapsed": false
   },
   "outputs": [
    {
     "data": {
      "text/plain": [
       "0.20000966453535693"
      ]
     },
     "execution_count": 3,
     "metadata": {},
     "output_type": "execute_result"
    }
   ],
   "source": [
    "#Now as a trader Let's suppose it's 3pm and I want to know how hard I will hit the market\n",
    "impact_estimate = calculate_impact(day_data, '2018-03-06 09:32:11.490041610', 10000)\n",
    "impact_estimate"
   ]
  },
  {
   "cell_type": "markdown",
   "metadata": {
    "collapsed": true
   },
   "source": [
    "# Now I know that I can expect to lose roughly 0.2% from impact cost\n",
    "As an experienced trader I can now either bide my time to wait for better impact numbers or act on this now\n",
    "Constantly monitoring how this impact estimate fluctuates throughout the day will allow me to make the right call"
   ]
  },
  {
   "cell_type": "code",
   "execution_count": 4,
   "metadata": {
    "collapsed": false
   },
   "outputs": [
    {
     "data": {
      "text/plain": [
       "#TIMESTAMP        2018-03-06 09:33:18.857820104\n",
       "PRICE                                   1535.79\n",
       "SIZE                                          3\n",
       "EXCHANGE                                      D\n",
       "BUY_SELL_FLAG                               NaN\n",
       "TRADE_TYPE                                  NaN\n",
       "COND                                       @  I\n",
       "TRF                                           Q\n",
       "SOURCE                                        N\n",
       "COND_CODE                                   NaN\n",
       "TRADE_COND                                  NaN\n",
       "TRADE_PROPERTY                              NaN\n",
       "SYMBOL_NAME                      NYSE_TAQ::AMZN\n",
       "Name: 2018-03-06 09:33:18.857820104, dtype: object"
      ]
     },
     "execution_count": 4,
     "metadata": {},
     "output_type": "execute_result"
    }
   ],
   "source": [
    "# Now for a quick benchmark lets look at how our code does against a trade that ACTUALLY took place on the day\n",
    "# Randomly picking the 5000th trade on the day\n",
    "sample_trade = get_trade(day_data, 5000)\n",
    "sample_trade"
   ]
  },
  {
   "cell_type": "code",
   "execution_count": 23,
   "metadata": {
    "collapsed": false
   },
   "outputs": [
    {
     "name": "stdout",
     "output_type": "stream",
     "text": [
      "Volume in time window: 2261\n",
      "We should expect our trade to have this proportion of total impact for the period 0.00132684652808\n"
     ]
    }
   ],
   "source": [
    "\n",
    "volume_in_period = int(day_data[day_data.index > sample_trade['#TIMESTAMP']].ix[0, 'OBV'] - \\\n",
    "                   day_data[day_data.index <= sample_trade['#TIMESTAMP']].ix[-1, 'OBV'])\n",
    "\n",
    "# There we're this many shares traded in the same time block as the trade we are interested in\n",
    "print 'Volume in time window:', volume_in_period\n",
    "\n",
    "\n",
    "# given that there we're 2261 shares traded in that window we can expect that our trade of 3 shares will have\n",
    "# roughly proportional impact\n",
    "\n",
    "impact_proportion = float(sample_trade['SIZE']) / float(volume_in_period)\n",
    "\n",
    "print 'We should expect our trade to have this proportion of total impact for the period', impact_proportion"
   ]
  },
  {
   "cell_type": "code",
   "execution_count": 48,
   "metadata": {
    "collapsed": false
   },
   "outputs": [
    {
     "name": "stdout",
     "output_type": "stream",
     "text": [
      "Our sample trade has this much impact on price change 6.96645353569e-05\n",
      "Our Overall impact from the window our trade falls in to 0.0452296645354\n"
     ]
    }
   ],
   "source": [
    "\n",
    "#Impact for our singular trade\n",
    "small_impact = calculate_impact(day_data, sample_trade['#TIMESTAMP'], sample_trade['SIZE'])\n",
    "\n",
    "\n",
    "#Impact of all trades in the window it lies in.\n",
    "full_window_impact = calculate_impact(day_data,\n",
    "                                      day_data[day_data.index > sample_trade['#TIMESTAMP']].index[0],\n",
    "                                      volume_in_period)\n",
    "\n",
    "\n",
    "print 'Our sample trade has this much impact on price change', small_impact\n",
    "print 'Our Overall impact from the window our trade falls in to', full_window_impact\n"
   ]
  },
  {
   "cell_type": "markdown",
   "metadata": {},
   "source": [
    "# We can now sanity check our work by extrapolating the small trade\n"
   ]
  },
  {
   "cell_type": "code",
   "execution_count": 37,
   "metadata": {
    "collapsed": false
   },
   "outputs": [
    {
     "name": "stdout",
     "output_type": "stream",
     "text": [
      "We extrapolate to: 0.0524573951238  As compared to the true impact in the window: 0.0452296645354\n"
     ]
    }
   ],
   "source": [
    "ratio_of_impact = small_impact * (volume_in_period / sample_trade['SIZE'])\n",
    "\n",
    "# We want the impact of our small trade extrapolated up to roughly be equal to the impact of the larger window\n",
    "\n",
    "print 'We extrapolate to:', ratio_of_impact, ' As compared to the true impact in the window:', full_window_impact"
   ]
  },
  {
   "cell_type": "markdown",
   "metadata": {},
   "source": [
    "# We are only off by 0.01% , a very good result"
   ]
  }
 ],
 "metadata": {
  "kernelspec": {
   "display_name": "Python 2",
   "language": "python",
   "name": "python2"
  },
  "language_info": {
   "codemirror_mode": {
    "name": "ipython",
    "version": 2
   },
   "file_extension": ".py",
   "mimetype": "text/x-python",
   "name": "python",
   "nbconvert_exporter": "python",
   "pygments_lexer": "ipython2",
   "version": "2.7.6"
  }
 },
 "nbformat": 4,
 "nbformat_minor": 0
}
